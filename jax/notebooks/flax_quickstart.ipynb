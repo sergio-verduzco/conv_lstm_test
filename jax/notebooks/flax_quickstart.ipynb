{
 "cells": [
  {
   "cell_type": "markdown",
   "id": "851a0d7c-cc7c-4748-89d1-4de4e887c58d",
   "metadata": {},
   "source": [
    "# flax_quickstart.ipynb\n",
    "\n",
    "A copy-paste of [this](https://flax.readthedocs.io/en/latest/quick_start.html), adapted to use PyTorch to handle the training data, based on https://pytorch.org/tutorials/beginner/basics/quickstart_tutorial.html"
   ]
  },
  {
   "cell_type": "code",
   "execution_count": 1,
   "id": "9b5c3860-32b0-4bfa-9a52-3383cf29e828",
   "metadata": {},
   "outputs": [],
   "source": [
    "import torch\n",
    "import torchvision\n",
    "import torchvision.transforms as transforms\n",
    "from torch.utils import data\n",
    "import numpy as np\n",
    "from jax.tree_util import tree_map"
   ]
  },
  {
   "cell_type": "code",
   "execution_count": 2,
   "id": "0dafaa69-ae39-4621-9f61-86684f730965",
   "metadata": {},
   "outputs": [
    {
     "name": "stdout",
     "output_type": "stream",
     "text": [
      "cuda:0\n"
     ]
    }
   ],
   "source": [
    "data_dir = \"/media/z/DATA/datasets/\"\n",
    "batch_size = 10\n",
    "num_epochs = 10\n",
    "learning_rate = 0.01\n",
    "momentum = 0.9\n",
    "\n",
    "device = torch.device('cuda:0' if torch.cuda.is_available() else 'cpu')\n",
    "print(device)\n",
    "\n",
    "def numpy_collate(batch):\n",
    "  return tree_map(np.asarray, data.default_collate(batch))\n",
    "\n",
    "class NumpyLoader(data.DataLoader):\n",
    "  def __init__(self, dataset, batch_size=1,\n",
    "                shuffle=False, sampler=None,\n",
    "                batch_sampler=None, num_workers=0,\n",
    "                pin_memory=False, drop_last=True,\n",
    "                timeout=0, worker_init_fn=None):\n",
    "    super(self.__class__, self).__init__(dataset,\n",
    "        batch_size=batch_size,\n",
    "        shuffle=shuffle,\n",
    "        sampler=sampler,\n",
    "        batch_sampler=batch_sampler,\n",
    "        num_workers=num_workers,\n",
    "        collate_fn=numpy_collate,\n",
    "        pin_memory=pin_memory,\n",
    "        drop_last=drop_last,\n",
    "        timeout=timeout,\n",
    "        worker_init_fn=worker_init_fn)\n",
    "\n",
    "transform = transforms.Compose(\n",
    "    [transforms.ToTensor(),\n",
    "     transforms.Normalize((0.5), (0.5))])\n",
    "\n",
    "trainset = torchvision.datasets.MNIST(root=data_dir, train=True,\n",
    "                                        download=True, transform=transform)\n",
    "\n",
    "trainloader = NumpyLoader(trainset,\n",
    "                          batch_size=batch_size,\n",
    "                          shuffle=True, \n",
    "                          num_workers=2)\n",
    "\n",
    "testset = torchvision.datasets.MNIST(root=data_dir, train=False,\n",
    "                                       download=True, transform=transform)\n",
    "testloader = NumpyLoader(testset,\n",
    "                         batch_size=batch_size,\n",
    "                         shuffle=False,\n",
    "                         num_workers=2)\n"
   ]
  },
  {
   "cell_type": "code",
   "execution_count": 3,
   "id": "86c7a0de-36e5-4e9e-8b27-4aec378bbab0",
   "metadata": {},
   "outputs": [],
   "source": [
    "from flax import linen as nn  # Linen API\n",
    "\n",
    "class CNN(nn.Module):\n",
    "  \"\"\"A simple CNN model.\"\"\"\n",
    "\n",
    "  @nn.compact\n",
    "  def __call__(self, x):\n",
    "    x = nn.Conv(features=32, kernel_size=(3, 3))(x)\n",
    "    x = nn.relu(x)\n",
    "    x = nn.avg_pool(x, window_shape=(2, 2), strides=(2, 2))\n",
    "    x = nn.Conv(features=64, kernel_size=(3, 3))(x)\n",
    "    x = nn.relu(x)\n",
    "    x = nn.avg_pool(x, window_shape=(2, 2), strides=(2, 2))\n",
    "    x = x.reshape((x.shape[0], -1))  # flatten\n",
    "    x = nn.Dense(features=256)(x)\n",
    "    x = nn.relu(x)\n",
    "    x = nn.Dense(features=10)(x)\n",
    "    return x"
   ]
  },
  {
   "cell_type": "code",
   "execution_count": 4,
   "id": "350ccf31-5372-409b-8a9f-21dadec314a4",
   "metadata": {
    "editable": true,
    "slideshow": {
     "slide_type": ""
    },
    "tags": []
   },
   "outputs": [
    {
     "name": "stdout",
     "output_type": "stream",
     "text": [
      "\n",
      "\u001b[3m                                  CNN Summary                                   \u001b[0m\n",
      "┏━━━━━━━━━┳━━━━━━━━┳━━━━━━━━━━━━┳━━━━━━━━━━━━━┳━━━━━━━┳━━━━━━━━━━━┳━━━━━━━━━━━━┓\n",
      "┃\u001b[1m \u001b[0m\u001b[1mpath   \u001b[0m\u001b[1m \u001b[0m┃\u001b[1m \u001b[0m\u001b[1mmodule\u001b[0m\u001b[1m \u001b[0m┃\u001b[1m \u001b[0m\u001b[1minputs    \u001b[0m\u001b[1m \u001b[0m┃\u001b[1m \u001b[0m\u001b[1moutputs    \u001b[0m\u001b[1m \u001b[0m┃\u001b[1m \u001b[0m\u001b[1mflops\u001b[0m\u001b[1m \u001b[0m┃\u001b[1m \u001b[0m\u001b[1mvjp_flops\u001b[0m\u001b[1m \u001b[0m┃\u001b[1m \u001b[0m\u001b[1mparams    \u001b[0m\u001b[1m \u001b[0m┃\n",
      "┡━━━━━━━━━╇━━━━━━━━╇━━━━━━━━━━━━╇━━━━━━━━━━━━━╇━━━━━━━╇━━━━━━━━━━━╇━━━━━━━━━━━━┩\n",
      "│         │ CNN    │ \u001b[2mfloat32\u001b[0m[1… │ \u001b[2mfloat32\u001b[0m[1,… │ 0     │ 0         │            │\n",
      "├─────────┼────────┼────────────┼─────────────┼───────┼───────────┼────────────┤\n",
      "│ Conv_0  │ Conv   │ \u001b[2mfloat32\u001b[0m[1… │ \u001b[2mfloat32\u001b[0m[1,… │ 0     │ 0         │ bias:      │\n",
      "│         │        │            │             │       │           │ \u001b[2mfloat32\u001b[0m[3… │\n",
      "│         │        │            │             │       │           │ kernel:    │\n",
      "│         │        │            │             │       │           │ \u001b[2mfloat32\u001b[0m[3… │\n",
      "│         │        │            │             │       │           │            │\n",
      "│         │        │            │             │       │           │ \u001b[1m320 \u001b[0m\u001b[1;2m(1.3 \u001b[0m  │\n",
      "│         │        │            │             │       │           │ \u001b[1;2mKB)\u001b[0m        │\n",
      "├─────────┼────────┼────────────┼─────────────┼───────┼───────────┼────────────┤\n",
      "│ Conv_1  │ Conv   │ \u001b[2mfloat32\u001b[0m[1… │ \u001b[2mfloat32\u001b[0m[1,… │ 0     │ 0         │ bias:      │\n",
      "│         │        │            │             │       │           │ \u001b[2mfloat32\u001b[0m[6… │\n",
      "│         │        │            │             │       │           │ kernel:    │\n",
      "│         │        │            │             │       │           │ \u001b[2mfloat32\u001b[0m[3… │\n",
      "│         │        │            │             │       │           │            │\n",
      "│         │        │            │             │       │           │ \u001b[1m18,496 \u001b[0m    │\n",
      "│         │        │            │             │       │           │ \u001b[1;2m(74.0 KB)\u001b[0m  │\n",
      "├─────────┼────────┼────────────┼─────────────┼───────┼───────────┼────────────┤\n",
      "│ Dense_0 │ Dense  │ \u001b[2mfloat32\u001b[0m[1… │ \u001b[2mfloat32\u001b[0m[1,… │ 0     │ 0         │ bias:      │\n",
      "│         │        │            │             │       │           │ \u001b[2mfloat32\u001b[0m[2… │\n",
      "│         │        │            │             │       │           │ kernel:    │\n",
      "│         │        │            │             │       │           │ \u001b[2mfloat32\u001b[0m[3… │\n",
      "│         │        │            │             │       │           │            │\n",
      "│         │        │            │             │       │           │ \u001b[1m803,072 \u001b[0m   │\n",
      "│         │        │            │             │       │           │ \u001b[1;2m(3.2 MB)\u001b[0m   │\n",
      "├─────────┼────────┼────────────┼─────────────┼───────┼───────────┼────────────┤\n",
      "│ Dense_1 │ Dense  │ \u001b[2mfloat32\u001b[0m[1… │ \u001b[2mfloat32\u001b[0m[1,… │ 0     │ 0         │ bias:      │\n",
      "│         │        │            │             │       │           │ \u001b[2mfloat32\u001b[0m[1… │\n",
      "│         │        │            │             │       │           │ kernel:    │\n",
      "│         │        │            │             │       │           │ \u001b[2mfloat32\u001b[0m[2… │\n",
      "│         │        │            │             │       │           │            │\n",
      "│         │        │            │             │       │           │ \u001b[1m2,570 \u001b[0m     │\n",
      "│         │        │            │             │       │           │ \u001b[1;2m(10.3 KB)\u001b[0m  │\n",
      "├─────────┼────────┼────────────┼─────────────┼───────┼───────────┼────────────┤\n",
      "│\u001b[1m \u001b[0m\u001b[1m       \u001b[0m\u001b[1m \u001b[0m│\u001b[1m \u001b[0m\u001b[1m      \u001b[0m\u001b[1m \u001b[0m│\u001b[1m \u001b[0m\u001b[1m          \u001b[0m\u001b[1m \u001b[0m│\u001b[1m \u001b[0m\u001b[1m           \u001b[0m\u001b[1m \u001b[0m│\u001b[1m \u001b[0m\u001b[1m     \u001b[0m\u001b[1m \u001b[0m│\u001b[1m \u001b[0m\u001b[1m    Total\u001b[0m\u001b[1m \u001b[0m│\u001b[1m \u001b[0m\u001b[1m824,458   \u001b[0m\u001b[1m \u001b[0m│\n",
      "│\u001b[1m         \u001b[0m│\u001b[1m        \u001b[0m│\u001b[1m            \u001b[0m│\u001b[1m             \u001b[0m│\u001b[1m       \u001b[0m│\u001b[1m           \u001b[0m│\u001b[1m \u001b[0m\u001b[1;2m(3.3 MB)\u001b[0m\u001b[1m  \u001b[0m\u001b[1m \u001b[0m│\n",
      "└─────────┴────────┴────────────┴─────────────┴───────┴───────────┴────────────┘\n",
      "\u001b[1m                                                                                \u001b[0m\n",
      "\u001b[1m                       Total Parameters: 824,458 \u001b[0m\u001b[1;2m(3.3 MB)\u001b[0m\u001b[1m                       \u001b[0m\n",
      "\n",
      "\n"
     ]
    }
   ],
   "source": [
    "import jax\n",
    "import jax.numpy as jnp  # JAX NumPy\n",
    "\n",
    "cnn = CNN()\n",
    "print(cnn.tabulate(jax.random.key(0), jnp.ones((1, 28, 28, 1)),\n",
    "                   compute_flops=True, compute_vjp_flops=True))"
   ]
  },
  {
   "cell_type": "code",
   "execution_count": 5,
   "id": "9e1d38a4-4d77-44f9-a626-3f0402c60012",
   "metadata": {
    "editable": true,
    "slideshow": {
     "slide_type": ""
    },
    "tags": []
   },
   "outputs": [],
   "source": [
    "from clu import metrics\n",
    "from flax.training import train_state  # Useful dataclass to keep train state\n",
    "from flax import struct                # Flax dataclasses\n",
    "import optax                           # Common loss functions and optimizers"
   ]
  },
  {
   "cell_type": "code",
   "execution_count": 6,
   "id": "cdeb95b5-ff23-43b5-a93d-11b57bf767d4",
   "metadata": {},
   "outputs": [],
   "source": [
    "@struct.dataclass\n",
    "class Metrics(metrics.Collection):\n",
    "  accuracy: metrics.Accuracy\n",
    "  loss: metrics.Average.from_output('loss')"
   ]
  },
  {
   "cell_type": "code",
   "execution_count": 7,
   "id": "e383ebad-b938-448e-8b78-94f4fa0c949c",
   "metadata": {},
   "outputs": [],
   "source": [
    "class TrainState(train_state.TrainState):\n",
    "  metrics: Metrics\n",
    "\n",
    "def create_train_state(module, rng, learning_rate, momentum):\n",
    "  \"\"\"Creates an initial `TrainState`.\"\"\"\n",
    "  params = module.init(rng, jnp.ones([1, 28, 28, 1]))['params'] # initialize parameters by passing a template image\n",
    "  tx = optax.sgd(learning_rate, momentum)\n",
    "  return TrainState.create(\n",
    "      apply_fn=module.apply, params=params, tx=tx,\n",
    "      metrics=Metrics.empty())"
   ]
  },
  {
   "cell_type": "code",
   "execution_count": 8,
   "id": "2a177b32-1462-4a19-8c9b-2aa85b09d38c",
   "metadata": {},
   "outputs": [],
   "source": [
    "@jax.jit\n",
    "def train_step(state, batch):\n",
    "  \"\"\"Train for a single step.\"\"\"\n",
    "  def loss_fn(params):\n",
    "    logits = state.apply_fn({'params': params}, batch['image'])\n",
    "    loss = optax.softmax_cross_entropy_with_integer_labels(\n",
    "        logits=logits, labels=batch['label']).mean()\n",
    "    return loss\n",
    "  grad_fn = jax.grad(loss_fn)\n",
    "  grads = grad_fn(state.params)\n",
    "  state = state.apply_gradients(grads=grads)\n",
    "  return state"
   ]
  },
  {
   "cell_type": "code",
   "execution_count": 9,
   "id": "b54bd43f-f152-42c0-8b9c-72c16c7cfe9b",
   "metadata": {},
   "outputs": [],
   "source": [
    "@jax.jit\n",
    "def compute_metrics(*, state, batch):\n",
    "  logits = state.apply_fn({'params': state.params}, batch['image'])\n",
    "  loss = optax.softmax_cross_entropy_with_integer_labels(\n",
    "        logits=logits, labels=batch['label']).mean()\n",
    "  metric_updates = state.metrics.single_from_model_output(\n",
    "    logits=logits, labels=batch['label'], loss=loss)\n",
    "  metrics = state.metrics.merge(metric_updates)\n",
    "  state = state.replace(metrics=metrics)\n",
    "  return state\n"
   ]
  },
  {
   "cell_type": "code",
   "execution_count": 10,
   "id": "cfd7abef-5e28-468f-87a0-f9d9c6ce221e",
   "metadata": {},
   "outputs": [],
   "source": [
    "init_rng = jax.random.key(0)\n",
    "state = create_train_state(cnn, init_rng, learning_rate, momentum)\n",
    "del init_rng  # Must not be used anymore.\n"
   ]
  },
  {
   "cell_type": "code",
   "execution_count": 11,
   "id": "f291d81e-0f43-476d-92ad-44fe63b6165e",
   "metadata": {},
   "outputs": [],
   "source": [
    "num_steps_per_epoch = len(trainloader) // num_epochs\n",
    "metrics_history = {'train_loss': [],\n",
    "                   'train_accuracy': [],\n",
    "                   'test_loss': [],\n",
    "                   'test_accuracy': []}\n"
   ]
  },
  {
   "cell_type": "code",
   "execution_count": 14,
   "id": "666d345d-b352-4a16-b3b8-3a4517d7ac74",
   "metadata": {},
   "outputs": [
    {
     "name": "stdout",
     "output_type": "stream",
     "text": [
      "train epoch: 1, loss: 0.03274725005030632, accuracy: 99.08333587646484\n",
      "test epoch: 1, loss: 0.03363867476582527, accuracy: 98.99500274658203\n",
      "train epoch: 2, loss: 0.03862741217017174, accuracy: 98.86666870117188\n",
      "test epoch: 2, loss: 0.03624125197529793, accuracy: 98.82666778564453\n",
      "train epoch: 3, loss: 0.02972359210252762, accuracy: 99.04999542236328\n",
      "test epoch: 3, loss: 0.029490437358617783, accuracy: 99.07833099365234\n",
      "train epoch: 4, loss: 0.0217811930924654, accuracy: 99.46666717529297\n",
      "test epoch: 4, loss: 0.03273802995681763, accuracy: 98.95166778564453\n",
      "train epoch: 5, loss: 0.02318991906940937, accuracy: 99.44999694824219\n",
      "test epoch: 5, loss: 0.03058357909321785, accuracy: 99.03333282470703\n",
      "train epoch: 6, loss: 0.025831110775470734, accuracy: 99.14999389648438\n",
      "test epoch: 6, loss: 0.032610852271318436, accuracy: 98.98999786376953\n",
      "train epoch: 7, loss: 0.029698818922042847, accuracy: 99.08333587646484\n",
      "test epoch: 7, loss: 0.0332624725997448, accuracy: 99.03166961669922\n",
      "train epoch: 8, loss: 0.02620719186961651, accuracy: 99.26666259765625\n",
      "test epoch: 8, loss: 0.02613096497952938, accuracy: 99.1683349609375\n",
      "train epoch: 9, loss: 0.02779337763786316, accuracy: 99.19999694824219\n",
      "test epoch: 9, loss: 0.024547792971134186, accuracy: 99.22000122070312\n",
      "train epoch: 10, loss: 0.01911345310509205, accuracy: 99.5\n",
      "test epoch: 10, loss: 0.028151435777544975, accuracy: 99.1066665649414\n"
     ]
    }
   ],
   "source": [
    "for step, batch_tuple in enumerate(trainloader):\n",
    "  # Conv uses a NHWC convenetion for its input, but our trainloader outputs NCHW\n",
    "  batch = {'image': batch_tuple[0].transpose([0, 2, 3, 1]), 'label': batch_tuple[1]}\n",
    "  # Run optimization steps over training batches and compute batch metrics\n",
    "  state = train_step(state, batch) # get updated train state (which contains the updated parameters)\n",
    "  state = compute_metrics(state=state, batch=batch) # aggregate batch metrics\n",
    "\n",
    "  if (step+1) % num_steps_per_epoch == 0: # one training epoch has passed\n",
    "    for metric,value in state.metrics.compute().items(): # compute metrics\n",
    "      metrics_history[f'train_{metric}'].append(value) # record metrics\n",
    "    state = state.replace(metrics=state.metrics.empty()) # reset train_metrics for next training epoch\n",
    "\n",
    "    # Compute metrics on the test set after each training epoch\n",
    "    test_state = state\n",
    "    for test_batch_tuple in trainloader:\n",
    "      test_batch = {'image': test_batch_tuple[0].transpose([0, 2, 3, 1]),\n",
    "                    'label': test_batch_tuple[1]}\n",
    "      test_state = compute_metrics(state=test_state, batch=test_batch)\n",
    "\n",
    "    for metric,value in test_state.metrics.compute().items():\n",
    "      metrics_history[f'test_{metric}'].append(value)\n",
    "\n",
    "    print(f\"train epoch: {(step+1) // num_steps_per_epoch}, \"\n",
    "          f\"loss: {metrics_history['train_loss'][-1]}, \"\n",
    "          f\"accuracy: {metrics_history['train_accuracy'][-1] * 100}\")\n",
    "    print(f\"test epoch: {(step+1) // num_steps_per_epoch}, \"\n",
    "          f\"loss: {metrics_history['test_loss'][-1]}, \"\n",
    "          f\"accuracy: {metrics_history['test_accuracy'][-1] * 100}\")\n"
   ]
  },
  {
   "cell_type": "code",
   "execution_count": 15,
   "id": "30d8ad91-60e6-414a-b5ab-7ef6cf84e43d",
   "metadata": {},
   "outputs": [
    {
     "data": {
      "image/png": "[encoded data removed]",
      "text/plain": [
       "<Figure size 1500x500 with 2 Axes>"
      ]
     },
     "metadata": {},
     "output_type": "display_data"
    },
    {
     "data": {
      "text/plain": [
       "<Figure size 640x480 with 0 Axes>"
      ]
     },
     "metadata": {},
     "output_type": "display_data"
    }
   ],
   "source": [
    "import matplotlib.pyplot as plt  # Visualization\n",
    "\n",
    "# Plot loss and accuracy in subplots\n",
    "fig, (ax1, ax2) = plt.subplots(1, 2, figsize=(15, 5))\n",
    "ax1.set_title('Loss')\n",
    "ax2.set_title('Accuracy')\n",
    "for dataset in ('train','test'):\n",
    "  ax1.plot(metrics_history[f'{dataset}_loss'], label=f'{dataset}_loss')\n",
    "  ax2.plot(metrics_history[f'{dataset}_accuracy'], label=f'{dataset}_accuracy')\n",
    "ax1.legend()\n",
    "ax2.legend()\n",
    "plt.show()\n",
    "plt.clf()"
   ]
  },
  {
   "cell_type": "markdown",
   "id": "adce6deb-6bc9-4135-8829-1298059ae87f",
   "metadata": {},
   "source": [
    "---\n",
    "## Sandbox"
   ]
  },
  {
   "cell_type": "code",
   "execution_count": null,
   "id": "8baff120-c723-4f91-9fe0-34a6d4aad28b",
   "metadata": {},
   "outputs": [],
   "source": []
  },
  {
   "cell_type": "code",
   "execution_count": 14,
   "id": "56069842-b7ed-4244-b322-60a8821911c7",
   "metadata": {},
   "outputs": [],
   "source": [
    "import jax\n",
    "from typing import Any, Callable, Sequence\n",
    "from jax import random, numpy as jnp\n",
    "import flax\n",
    "from flax import linen as nn"
   ]
  },
  {
   "cell_type": "code",
   "execution_count": 15,
   "id": "a4223961-dbe5-44f0-9542-ff6c188b6c60",
   "metadata": {},
   "outputs": [
    {
     "data": {
      "text/plain": [
       "{'params': {'bias': (5,), 'kernel': (10, 5)}}"
      ]
     },
     "execution_count": 15,
     "metadata": {},
     "output_type": "execute_result"
    }
   ],
   "source": [
    "# We create one dense layer instance (taking 'features' parameter as input)\n",
    "model = nn.Dense(features=5)\n",
    "key1, key2 = random.split(random.key(0))\n",
    "x = random.normal(key1, (10,)) # Dummy input data\n",
    "params = model.init(key2, x) # Initialization call\n",
    "jax.tree_util.tree_map(lambda x: x.shape, params)"
   ]
  },
  {
   "cell_type": "code",
   "execution_count": 16,
   "id": "7c2438d8-3b41-422b-9d40-fe4b53d6e928",
   "metadata": {},
   "outputs": [
    {
     "data": {
      "text/plain": [
       "Array([-1.3721199 ,  0.611315  ,  0.64428365,  2.2192967 , -1.1271119 ],      dtype=float32)"
      ]
     },
     "execution_count": 16,
     "metadata": {},
     "output_type": "execute_result"
    }
   ],
   "source": [
    "model.apply(params, x)"
   ]
  },
  {
   "cell_type": "code",
   "execution_count": 17,
   "id": "1788fb44-e1c3-4647-9ff9-c8455bc7fa73",
   "metadata": {},
   "outputs": [
    {
     "name": "stdout",
     "output_type": "stream",
     "text": [
      "x shape: (20, 10) ; y shape: (20, 5)\n"
     ]
    }
   ],
   "source": [
    "# Set problem dimensions.\n",
    "n_samples = 20\n",
    "x_dim = 10\n",
    "y_dim = 5\n",
    "\n",
    "# Generate random ground truth W and b.\n",
    "key = random.key(0)\n",
    "k1, k2 = random.split(key)\n",
    "W = random.normal(k1, (x_dim, y_dim))\n",
    "b = random.normal(k2, (y_dim,))\n",
    "# Store the parameters in a FrozenDict pytree.\n",
    "true_params = flax.core.freeze({'params': {'bias': b, 'kernel': W}})\n",
    "\n",
    "# Generate samples with additional noise.\n",
    "key_sample, key_noise = random.split(k1)\n",
    "x_samples = random.normal(key_sample, (n_samples, x_dim))\n",
    "y_samples = jnp.dot(x_samples, W) + b + 0.1 * random.normal(key_noise,(n_samples, y_dim))\n",
    "print('x shape:', x_samples.shape, '; y shape:', y_samples.shape)"
   ]
  },
  {
   "cell_type": "code",
   "execution_count": 18,
   "id": "917abf87-e499-4b74-979f-a94568568ef1",
   "metadata": {},
   "outputs": [],
   "source": [
    "# Same as JAX version but using model.apply().\n",
    "@jax.jit\n",
    "def mse(params, x_batched, y_batched):\n",
    "  # Define the squared loss for a single pair (x,y)\n",
    "  def squared_error(x, y):\n",
    "    pred = model.apply(params, x)\n",
    "    return jnp.inner(y-pred, y-pred) / 2.0\n",
    "  # Vectorize the previous to compute the average of the loss on all samples.\n",
    "  return jnp.mean(jax.vmap(squared_error)(x_batched,y_batched), axis=0)"
   ]
  },
  {
   "cell_type": "code",
   "execution_count": 19,
   "id": "0eb9ddd2-dc34-42e7-88f4-c8bed7a82f6d",
   "metadata": {},
   "outputs": [],
   "source": [
    "import optax\n",
    "tx = optax.adam(learning_rate=learning_rate)\n",
    "opt_state = tx.init(params)\n",
    "loss_grad_fn = jax.value_and_grad(mse)\n"
   ]
  },
  {
   "cell_type": "code",
   "execution_count": 20,
   "id": "aaef3de9-eeff-4783-9b55-a4bf50114496",
   "metadata": {},
   "outputs": [
    {
     "name": "stdout",
     "output_type": "stream",
     "text": [
      "Loss step 0:  35.343876\n",
      "Loss step 10:  29.751673\n",
      "Loss step 20:  24.931484\n",
      "Loss step 30:  20.849905\n",
      "Loss step 40:  17.428656\n",
      "Loss step 50:  14.582544\n",
      "Loss step 60:  12.222906\n",
      "Loss step 70:  10.263725\n",
      "Loss step 80:  8.63257\n",
      "Loss step 90:  7.271705\n",
      "Loss step 100:  6.134899\n"
     ]
    }
   ],
   "source": [
    "for i in range(101):\n",
    "  loss_val, grads = loss_grad_fn(params, x_samples, y_samples)\n",
    "  updates, opt_state = tx.update(grads, opt_state)\n",
    "  params = optax.apply_updates(params, updates)\n",
    "  if i % 10 == 0:\n",
    "    print('Loss step {}: '.format(i), loss_val)\n"
   ]
  },
  {
   "cell_type": "code",
   "execution_count": null,
   "id": "e32f9b59-49f6-4633-86e6-7e50655e5ef1",
   "metadata": {},
   "outputs": [],
   "source": []
  }
 ],
 "metadata": {
  "kernelspec": {
   "display_name": "Python 3 (ipykernel)",
   "language": "python",
   "name": "python3"
  },
  "language_info": {
   "codemirror_mode": {
    "name": "ipython",
    "version": 3
   },
   "file_extension": ".py",
   "mimetype": "text/x-python",
   "name": "python",
   "nbconvert_exporter": "python",
   "pygments_lexer": "ipython3",
   "version": "3.12.2"
  }
 },
 "nbformat": 4,
 "nbformat_minor": 5
}
