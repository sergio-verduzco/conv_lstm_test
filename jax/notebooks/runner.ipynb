{
 "cells": [
  {
   "cell_type": "markdown",
   "id": "86e4e516-a7f1-424a-bb03-0172a8698d14",
   "metadata": {},
   "source": [
    "# runner.ipynb\n",
    "\n",
    "A notebook to use the methods in `jax_conv_lstm.py`"
   ]
  },
  {
   "cell_type": "code",
   "execution_count": null,
   "id": "10e3fc18-7a1b-48e5-b135-ba333fff8e61",
   "metadata": {},
   "outputs": [],
   "source": [
    "%cd ..\n",
    "from jax_conv_lstm import *\n",
    "import time\n",
    "import torch\n",
    "from torchvision.utils import make_grid\n",
    "import torchvision.transforms.functional as F\n",
    "from matplotlib import pyplot as plt"
   ]
  },
  {
   "cell_type": "code",
   "execution_count": null,
   "id": "30424d62-bf12-4b1a-86b5-5a990670e2dd",
   "metadata": {},
   "outputs": [],
   "source": [
    "# configuration and data loader\n",
    "config = read_config('rnn_config.yaml')\n",
    "dataset = JaxDataset(config['data_path'])\n",
    "print(\"Configuration dictionary:\")\n",
    "print(config)\n",
    "data_loader = NumpyLoader(dataset, batch_size=config['batch_size'], shuffle=True)"
   ]
  },
  {
   "cell_type": "code",
   "execution_count": null,
   "id": "43d802fa-e084-41d5-96af-d85743a8f6e0",
   "metadata": {},
   "outputs": [],
   "source": [
    "# explore the data_loader object\n",
    "datum = next(data_loader._get_iterator())\n",
    "vision, motor, language, mask, lang_mask = datum\n",
    "print(f\"Vision shape: {vision.shape}. \\t Vision type: {type(vision)}\")\n",
    "print(f\"Motor shape: {motor.shape}. \\t Motor type: {type(motor)}\")\n",
    "print(f\"Language shape: {language.shape}. \\t Language type: {type(language)}.\")\n",
    "print(f\"Mask shape: {mask.shape}. \\t Mask type: {type(mask)}.\")\n",
    "print(f\"Lang_mask shape: {lang_mask.shape}. \\t Lang_mask type: {type(lang_mask)}.\")\n",
    "config['vision'] = vision[:, 0:1, :, :, :]  # for shape reference when creating parameters"
   ]
  },
  {
   "cell_type": "code",
   "execution_count": null,
   "id": "2e7db138-d31f-4c5c-9b92-16fa85c3985e",
   "metadata": {},
   "outputs": [],
   "source": [
    "# Initialize the parameters\n",
    "key = random.key(34)\n",
    "params, conv_params, conv_params_t, h_shape  = create_random_params(key, config)\n",
    "# convert parameters to named tuples    \n",
    "params_nt, conv_params_nt, conv_params_t_nt = params_to_nt(params, conv_params, conv_params_t)"
   ]
  },
  {
   "cell_type": "code",
   "execution_count": null,
   "id": "117e72a2-a2be-47e5-8b8c-55061f7a238a",
   "metadata": {},
   "outputs": [],
   "source": [
    "## Gradient descent\n",
    "# initialize the hidden state and cell state\n",
    "key = random.key(23456)\n",
    "key_h, key_c = random.split(key)\n",
    "h = 0.1 * jax.random.normal(key_h, h_shape)\n",
    "c = 0.1 * jax.random.normal(key_c, h_shape)\n",
    "lr = config['learning_rate']\n",
    "\n",
    "if 'losses' not in locals():\n",
    "    losses = []\n",
    "\n",
    "start_time = time.time()\n",
    "warmup_epochs = 1\n",
    "\n",
    "# Run training epochs\n",
    "for epoch in range(config['n_epochs']):\n",
    "    running_loss = 0.0\n",
    "    if epoch == warmup_epochs:\n",
    "        start_time = time.time()\n",
    "    for datum in data_loader:\n",
    "        vision, motor, language, mask, lang_mask = datum\n",
    "        loss_val, params_nt = sgd_update(params_nt,\n",
    "                                         vision,\n",
    "                                         h,\n",
    "                                         c,\n",
    "                                         conv_params_nt,\n",
    "                                         conv_params_t_nt,\n",
    "                                         lr)\n",
    "        running_loss += loss_val\n",
    "    losses.append(running_loss / len(data_loader))\n",
    "    if epoch % 1 == 0:\n",
    "        print(f\"Epoch {epoch}, loss: {losses[-1]}\")\n",
    "\n",
    "end_time = time.time()\n",
    "elapsed_time = end_time - start_time\n",
    "print(f\"Completed {config['n_epochs'] - warmup_epochs} epochs in {elapsed_time:.2f} seconds\")"
   ]
  },
  {
   "cell_type": "markdown",
   "id": "2e814e8a-3e6a-499f-8c9a-59b817d4452d",
   "metadata": {},
   "source": [
    "2 epochs in 100 seconds with jit, 1 epoch warmup, batch_size=32  \n",
    "2 epochs in 98 seconds with jit, 1 epoch warmup, batch_size=16  \n",
    "2 epochs in 205 seconds without jit, 1 epoch warmup, batch_size=16  \n"
   ]
  },
  {
   "cell_type": "code",
   "execution_count": null,
   "id": "ba9212c9-67bd-427f-9705-2a057e9790cb",
   "metadata": {},
   "outputs": [],
   "source": [
    "# visualize some predictions\n",
    "\n",
    "prediction = prediction_n_steps(params_nt, vision, h, c, conv_params_nt, conv_params_t_nt)\n",
    "pt_prediction = torch.from_numpy(np.asarray(prediction)) # don't use in real code\n",
    "example_index = 3 \n",
    "vision_ex = pt_prediction[example_index, :, :, :, :]\n",
    "print(f\"For index {example_index}, the vision data has shape {vision_ex.shape}\")\n",
    "\n",
    "imgs = vision_ex / 2. + 0.5\n",
    "grid = make_grid(torch.tensor(imgs))\n",
    "\n",
    "def show(imgs):\n",
    "    if not isinstance(imgs, list):\n",
    "        imgs = [imgs]\n",
    "    fig, axs = plt.subplots(ncols=len(imgs), squeeze=False, figsize=(10,10))\n",
    "    for i, img in enumerate(imgs):\n",
    "        img = img.detach()\n",
    "        img = F.to_pil_image(img)\n",
    "        axs[0, i].imshow(np.asarray(img))\n",
    "        axs[0, i].set(xticklabels=[], yticklabels=[], xticks=[], yticks=[])\n",
    "\n",
    "show(grid)"
   ]
  },
  {
   "cell_type": "code",
   "execution_count": null,
   "id": "bb95f4d2-423c-48df-968c-743bda362cfd",
   "metadata": {},
   "outputs": [],
   "source": [
    "# plot the losses\n",
    "plt.plot(losses)\n",
    "plt.xlabel('Epoch')\n",
    "plt.ylabel('Loss')"
   ]
  },
  {
   "cell_type": "markdown",
   "id": "ab082523-9ac3-41ca-951e-55acc8f795f9",
   "metadata": {},
   "source": [
    "---\n",
    "Save and load the model"
   ]
  },
  {
   "cell_type": "code",
   "execution_count": null,
   "id": "d7a99c13-bac1-4b6c-948f-6ef3ab67a2a4",
   "metadata": {},
   "outputs": [],
   "source": [
    "# Save the parameters of the model\n",
    "    with open(config['model_path'], 'wb') as file:\n",
    "        pickle.dump(params_nt, file)"
   ]
  }
 ],
 "metadata": {
  "kernelspec": {
   "display_name": "Python 3 (ipykernel)",
   "language": "python",
   "name": "python3"
  },
  "language_info": {
   "codemirror_mode": {
    "name": "ipython",
    "version": 3
   },
   "file_extension": ".py",
   "mimetype": "text/x-python",
   "name": "python",
   "nbconvert_exporter": "python",
   "pygments_lexer": "ipython3",
   "version": "3.12.2"
  }
 },
 "nbformat": 4,
 "nbformat_minor": 5
}
