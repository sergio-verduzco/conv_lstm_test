{
 "cells": [
  {
   "cell_type": "markdown",
   "id": "3c10a704-d410-49c8-b128-cbcda18fb6ed",
   "metadata": {},
   "source": [
    "# Generalized Convolutions in JAX\n",
    "\n",
    "A copy-pasta of [this](https://jax.readthedocs.io/en/latest/notebooks/convolutions.html)"
   ]
  },
  {
   "cell_type": "code",
   "execution_count": null,
   "id": "eb8b0544-0266-478e-a666-f9cc4df5b9ee",
   "metadata": {},
   "outputs": [],
   "source": [
    "import matplotlib.pyplot as plt\n",
    "\n",
    "from jax import random\n",
    "import jax.numpy as jnp\n",
    "import numpy as np\n",
    "\n",
    "# One-dimensional convolution\n",
    "\n",
    "key = random.key(1701)\n",
    "\n",
    "x = jnp.linspace(0, 10, 500)\n",
    "y = jnp.sin(x) + 0.2 * random.normal(key, shape=(500,))\n",
    "\n",
    "window = jnp.ones(10) / 10\n",
    "y_smooth = jnp.convolve(y, window, mode='same')\n",
    "\n",
    "plt.plot(x, y, 'lightgray')\n",
    "plt.plot(x, y_smooth, 'black');"
   ]
  },
  {
   "cell_type": "markdown",
   "id": "ae8c567d-69d5-4843-9e3c-f4ade2f9f409",
   "metadata": {},
   "source": [
    "### Basic N-dimensional convolution"
   ]
  },
  {
   "cell_type": "code",
   "execution_count": null,
   "id": "0a100086-132b-496d-ba28-73e301f85fe1",
   "metadata": {},
   "outputs": [],
   "source": [
    "from scipy import misc\n",
    "import jax.scipy as jsp\n",
    "\n",
    "fig, ax = plt.subplots(1, 3, figsize=(12, 5))\n",
    "\n",
    "# Load a sample image; compute mean() to convert from RGB to grayscale.\n",
    "image = jnp.array(misc.face().mean(-1))\n",
    "ax[0].imshow(image, cmap='binary_r')\n",
    "ax[0].set_title('original')\n",
    "\n",
    "# Create a noisy version by adding random Gaussian noise\n",
    "key = random.key(1701)\n",
    "k1, k2 = random.split(key)\n",
    "noisy_image = image + -75 + 150 * random.uniform(k1, image.shape) - 150 * random.normal(k2, image.shape)\n",
    "ax[1].imshow(noisy_image, cmap='binary_r')\n",
    "ax[1].set_title('noisy')\n",
    "\n",
    "# Smooth the noisy image with a 2D Gaussian smoothing kernel.\n",
    "x = jnp.linspace(-4, 4, 12)\n",
    "window = jsp.stats.norm.pdf(x) * jsp.stats.norm.pdf(x[:, None])\n",
    "smooth_image = jsp.signal.convolve(noisy_image, window, mode='same')\n",
    "ax[2].imshow(smooth_image, cmap='binary_r')\n",
    "ax[2].set_title('smoothed');"
   ]
  },
  {
   "cell_type": "code",
   "execution_count": null,
   "id": "8d2a3cd6-e4c4-4ee4-9f64-417a963eb3aa",
   "metadata": {},
   "outputs": [],
   "source": [
    "# 2D kernel - HWIO layout\n",
    "kernel = jnp.zeros((3, 3, 3, 3), dtype=jnp.float32)\n",
    "kernel += jnp.array([[1, 1, 0],\n",
    "                     [1, 0,-1],\n",
    "                     [0,-1,-1]])[:, :, jnp.newaxis, jnp.newaxis]\n",
    "\n",
    "print(\"Edge Conv kernel:\")\n",
    "plt.imshow(kernel[:, :, 2, 2]);"
   ]
  },
  {
   "cell_type": "code",
   "execution_count": null,
   "id": "0b234aa6-360f-432e-b28b-a22deb9ef4e6",
   "metadata": {},
   "outputs": [],
   "source": [
    "# NHWC layout\n",
    "img = jnp.zeros((1, 200, 198, 3), dtype=jnp.float32)\n",
    "for k in range(3):\n",
    "  x = 30 + 60*k\n",
    "  y = 20 + 60*k\n",
    "  img = img.at[0, x:x+10, y:y+10, k].set(1.0)\n",
    "\n",
    "print(\"Original Image:\")\n",
    "plt.imshow(img[0]);"
   ]
  },
  {
   "cell_type": "code",
   "execution_count": null,
   "id": "d9cda385-9921-478b-8019-598598760da3",
   "metadata": {},
   "outputs": [],
   "source": [
    "from jax import lax\n",
    "out = lax.conv(jnp.transpose(img,[0,3,1,2]),    # lhs = NCHW image tensor\n",
    "               jnp.transpose(kernel,[3,2,0,1]), # rhs = OIHW conv kernel tensor\n",
    "               (1, 1),  # window strides\n",
    "               'SAME') # padding mode\n",
    "print(\"out shape: \", out.shape)\n",
    "print(\"First output channel:\")\n",
    "plt.figure(figsize=(10,10))\n",
    "plt.imshow(np.array(out)[0,0,:,:]);"
   ]
  },
  {
   "cell_type": "code",
   "execution_count": null,
   "id": "d0994f33-cd7d-43a3-a335-85806fa5c65a",
   "metadata": {},
   "outputs": [],
   "source": [
    "out = lax.conv_with_general_padding(\n",
    "  jnp.transpose(img,[0,3,1,2]),    # lhs = NCHW image tensor\n",
    "  jnp.transpose(kernel,[2,3,0,1]), # rhs = IOHW conv kernel tensor\n",
    "  (1, 1),  # window strides\n",
    "  ((2,2),(2,2)), # general padding 2x2\n",
    "  (1,1),  # lhs/image dilation\n",
    "  (1,1))  # rhs/kernel dilation\n",
    "print(\"out shape: \", out.shape)\n",
    "print(\"First output channel:\")\n",
    "plt.figure(figsize=(10,10))\n",
    "plt.imshow(np.array(out)[0,0,:,:]);"
   ]
  },
  {
   "cell_type": "code",
   "execution_count": null,
   "id": "9c468e20-d6bb-4f36-9c60-f0b72946391d",
   "metadata": {},
   "outputs": [],
   "source": []
  }
 ],
 "metadata": {
  "kernelspec": {
   "display_name": "Python 3 (ipykernel)",
   "language": "python",
   "name": "python3"
  },
  "language_info": {
   "codemirror_mode": {
    "name": "ipython",
    "version": 3
   },
   "file_extension": ".py",
   "mimetype": "text/x-python",
   "name": "python",
   "nbconvert_exporter": "python",
   "pygments_lexer": "ipython3",
   "version": "3.8.10"
  }
 },
 "nbformat": 4,
 "nbformat_minor": 5
}
