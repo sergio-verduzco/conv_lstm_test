{
 "cells": [
  {
   "cell_type": "code",
   "execution_count": null,
   "id": "085bcbea-b758-4cb7-bc54-d9634f0e097d",
   "metadata": {},
   "outputs": [],
   "source": [
    "import jax.numpy as jnp\n",
    "from jax import grad, jit, vmap\n",
    "from jax import random"
   ]
  },
  {
   "cell_type": "code",
   "execution_count": null,
   "id": "1409e8d0-13ae-4248-abc6-2db40981d9dc",
   "metadata": {},
   "outputs": [],
   "source": [
    "key = random.key(0)\n",
    "x = random.normal(key, (10,))\n",
    "print(x)"
   ]
  },
  {
   "cell_type": "code",
   "execution_count": null,
   "id": "069e14af-9102-43e4-be94-fd4c37a5992e",
   "metadata": {},
   "outputs": [],
   "source": [
    "size = 5000\n",
    "x = random.normal(key, (size, size), dtype=jnp.float32)\n",
    "%timeit jnp.dot(x, x.T).block_until_ready()  # runs on the GPU"
   ]
  },
  {
   "cell_type": "code",
   "execution_count": null,
   "id": "54f5a0f3-b49a-471f-a644-61fd0db6dd4f",
   "metadata": {},
   "outputs": [],
   "source": [
    "import numpy as np\n",
    "x = np.random.normal(size=(size, size)).astype(np.float32)\n",
    "%timeit jnp.dot(x, x.T).block_until_ready()"
   ]
  },
  {
   "cell_type": "code",
   "execution_count": null,
   "id": "d7b69975-b3dd-4976-bca8-2359f4c07fd4",
   "metadata": {},
   "outputs": [],
   "source": [
    "from jax import device_put\n",
    "\n",
    "x = np.random.normal(size=(size, size)).astype(np.float32)\n",
    "x = device_put(x)\n",
    "%timeit jnp.dot(x, x.T).block_until_ready()"
   ]
  },
  {
   "cell_type": "code",
   "execution_count": null,
   "id": "5edb9a77-7987-43d4-b4d1-0c7130331531",
   "metadata": {},
   "outputs": [],
   "source": [
    "def selu(x, alpha=1.67, lmbda=1.05):\n",
    "  return lmbda * jnp.where(x > 0, x, alpha * jnp.exp(x) - alpha)\n",
    "\n",
    "x = random.normal(key, (1_000_000,))\n",
    "%timeit selu(x).block_until_ready()"
   ]
  },
  {
   "cell_type": "code",
   "execution_count": null,
   "id": "920ae665-32a2-4022-8d15-5c95b9466898",
   "metadata": {},
   "outputs": [],
   "source": [
    "selu_jit = jit(selu)\n",
    "%timeit selu_jit(x).block_until_ready()"
   ]
  },
  {
   "cell_type": "code",
   "execution_count": null,
   "id": "34517f33-2596-4bbb-b276-28d646f589ec",
   "metadata": {},
   "outputs": [],
   "source": [
    "mat = random.normal(key, (150, 100))\n",
    "batched_x = random.normal(key, (10, 100))\n",
    "\n",
    "def apply_matrix(v):\n",
    "  return jnp.dot(mat, v)"
   ]
  },
  {
   "cell_type": "code",
   "execution_count": null,
   "id": "742c1767-66f0-4e77-b926-d774f3726a4d",
   "metadata": {},
   "outputs": [],
   "source": [
    "def naively_batched_apply_matrix(v_batched):\n",
    "  return jnp.stack([apply_matrix(v) for v in v_batched])\n",
    "\n",
    "print('Naively batched')\n",
    "%timeit naively_batched_apply_matrix(batched_x).block_until_ready()"
   ]
  },
  {
   "cell_type": "code",
   "execution_count": null,
   "id": "8ac34264-d2cd-42fb-a639-c03941783abd",
   "metadata": {},
   "outputs": [],
   "source": [
    "@jit\n",
    "def batched_apply_matrix(v_batched):\n",
    "  return jnp.dot(v_batched, mat.T)\n",
    "\n",
    "print('Manually batched')\n",
    "%timeit batched_apply_matrix(batched_x).block_until_ready()"
   ]
  },
  {
   "cell_type": "code",
   "execution_count": null,
   "id": "4fe32fb2-7174-4e5d-88d3-386b79f5db84",
   "metadata": {},
   "outputs": [],
   "source": [
    "@jit\n",
    "def vmap_batched_apply_matrix(v_batched):\n",
    "  return vmap(apply_matrix)(v_batched)\n",
    "\n",
    "print('Auto-vectorized with vmap')\n",
    "%timeit vmap_batched_apply_matrix(batched_x).block_until_ready()"
   ]
  },
  {
   "cell_type": "code",
   "execution_count": null,
   "id": "e90a0ee2-59d2-435b-ac71-076a829c88e8",
   "metadata": {},
   "outputs": [],
   "source": [
    "x = jnp.array([1, 2, 1])\n",
    "y = jnp.ones(10)\n",
    "jnp.convolve(x, y)"
   ]
  },
  {
   "cell_type": "code",
   "execution_count": null,
   "id": "6e4cba64-bac7-4f33-b36c-a2846aea7087",
   "metadata": {},
   "outputs": [],
   "source": [
    "from jax import lax\n",
    "result = lax.conv_general_dilated(\n",
    "    x.reshape(1, 1, 3).astype(float),  # note: explicit promotion\n",
    "    y.reshape(1, 1, 10),\n",
    "    window_strides=(1,),\n",
    "    padding=[(len(y) - 1, len(y) - 1)])  # equivalent of padding='full' in NumPy\n",
    "result[0, 0]"
   ]
  },
  {
   "cell_type": "code",
   "execution_count": null,
   "id": "c6bf3fe3",
   "metadata": {},
   "outputs": [],
   "source": [
    ".56*375"
   ]
  },
  {
   "cell_type": "code",
   "execution_count": null,
   "id": "1d5bf6f3-60a2-450b-a7b0-96c79cd87cb6",
   "metadata": {},
   "outputs": [],
   "source": [
    "@jit\n",
    "def get_negatives(x):\n",
    "  return x[x < 0]\n",
    "\n",
    "x = jnp.array(np.random.randn(10))\n",
    "get_negatives(x)"
   ]
  },
  {
   "cell_type": "code",
   "execution_count": null,
   "id": "1bc66dc2-3049-40ca-82f4-e34544df3546",
   "metadata": {},
   "outputs": [],
   "source": [
    "@jit\n",
    "def f(x, y):\n",
    "  print(\"Running f():\")\n",
    "  print(f\"  x = {x}\")\n",
    "  print(f\"  y = {y}\")\n",
    "  result = jnp.dot(x + 1, y + 1)\n",
    "  print(f\"  result = {result}\")\n",
    "  return result\n",
    "\n",
    "x = np.random.randn(3, 4)\n",
    "y = np.random.randn(4)\n",
    "f(x, y)"
   ]
  },
  {
   "cell_type": "code",
   "execution_count": null,
   "id": "a4f18561-541b-4dbb-85c2-2ef80b13dfd0",
   "metadata": {},
   "outputs": [],
   "source": [
    "from jax import random"
   ]
  },
  {
   "cell_type": "code",
   "execution_count": null,
   "id": "f7444552-60f8-4694-acc8-781be069efa5",
   "metadata": {},
   "outputs": [],
   "source": [
    "key = random.key(1)\n",
    "print(f\"key: {key}\")\n",
    "print(f\"random 1 = {random.normal(key, shape=(1,))}\")\n",
    "print(f\"random 1 = {random.normal(key, shape=(1,))}\")\n",
    "key, subkey = random.split(key)\n",
    "print(f\"random 2 = {random.normal(key, shape=(1,))}\")\n",
    "print(f\"subrandom 1 = {random.normal(subkey, shape=(1,))}\")\n",
    "key, subkey2 = random.split(key)\n",
    "print(f\"random 3 = {random.normal(key, shape=(1,))}\")\n",
    "print(f\"subrandom 2 = {random.normal(subkey, shape=(1,))}\")\n",
    "subkey, subsubkey = random.split(subkey)\n",
    "print(f\"subrandom 3 {random.normal(subkey, shape=(1,))}\")\n",
    "print(f\"subsubrandom 1 = {random.normal(subsubkey, shape=(1,))}\")"
   ]
  },
  {
   "cell_type": "code",
   "execution_count": null,
   "id": "3531af17-151d-4b84-92e3-20224c637b76",
   "metadata": {},
   "outputs": [],
   "source": [
    "def nansum(x):\n",
    "  \"\"\" Sum all input values, ignoring NaNs. \"\"\"\n",
    "  mask = ~jnp.isnan(x)  # boolean mask selecting non-nan values\n",
    "  x_without_nans = x[mask]\n",
    "  return x_without_nans.sum()"
   ]
  },
  {
   "cell_type": "code",
   "execution_count": null,
   "id": "f5b262c7-03c4-40b2-9088-a8cc7d012b35",
   "metadata": {},
   "outputs": [],
   "source": [
    "x = jnp.array([1, 2, jnp.nan, 3, 4])\n",
    "print(nansum(x))"
   ]
  },
  {
   "cell_type": "code",
   "execution_count": null,
   "id": "e5e12fff-f5f6-4f49-8fb8-3ebd8cb07982",
   "metadata": {},
   "outputs": [],
   "source": [
    "@jit\n",
    "def nansum_2(x):\n",
    "  mask = ~jnp.isnan(x)  # boolean mask selecting non-nan values\n",
    "  return jnp.where(mask, x, 0).sum()\n",
    "\n",
    "print(nansum_2(x))"
   ]
  },
  {
   "cell_type": "code",
   "execution_count": null,
   "id": "c61bc323-a0d1-4a23-b8d3-1952f8d155ad",
   "metadata": {},
   "outputs": [],
   "source": [
    "sum_single = lambda carry, x: (carry, x) if jnp.isnan(x) else (carry + x, x) \n",
    "def nansum_3(x):\n",
    "    return lax.scan(sum_single, 0, x)"
   ]
  },
  {
   "cell_type": "code",
   "execution_count": null,
   "id": "10be153a-effa-45f6-832e-1c622debb4d4",
   "metadata": {},
   "outputs": [],
   "source": [
    "x = random.uniform(random.key(0), (1000,), dtype=jnp.float64)\n",
    "x.dtype"
   ]
  },
  {
   "cell_type": "code",
   "execution_count": null,
   "id": "be98bc5a-058e-4d92-a490-8644001a5384",
   "metadata": {},
   "outputs": [],
   "source": [
    "long_vector = jnp.arange(int(1e7))\n",
    "\n",
    "%timeit jnp.dot(long_vector, long_vector).block_until_ready()"
   ]
  },
  {
   "cell_type": "code",
   "execution_count": null,
   "id": "1283b422-5702-4f6b-8c1b-71b80b845251",
   "metadata": {},
   "outputs": [],
   "source": [
    "long_vector_on_cpu = jax.device_put(long_vector, device=jax.devices('cpu')[0])\n",
    "\n",
    "%timeit jnp.dot(long_vector_on_cpu, long_vector_on_cpu).block_until_ready()\n",
    "                                                                "
   ]
  },
  {
   "cell_type": "markdown",
   "id": "94b80e85-cf05-4958-a2bb-bbfb24b89ff4",
   "metadata": {},
   "source": [
    "---"
   ]
  },
  {
   "cell_type": "markdown",
   "id": "8dd98138-8ef0-4ae9-b571-8c6abcc73d4b",
   "metadata": {},
   "source": [
    "## Tutorial: JAX 101"
   ]
  },
  {
   "cell_type": "code",
   "execution_count": null,
   "id": "00e0878c-2be4-45b5-acd7-383bd0ebe694",
   "metadata": {},
   "outputs": [],
   "source": [
    "def sum_of_squares(x):\n",
    "  return jnp.sum(x**2)\n",
    "\n",
    "sum_of_squares_dx = jax.grad(sum_of_squares)\n",
    "\n",
    "x = jnp.asarray([1.0, 2.0, 3.0, 4.0])\n",
    "\n",
    "print(sum_of_squares(x))\n",
    "\n",
    "print(sum_of_squares_dx(x))"
   ]
  },
  {
   "cell_type": "code",
   "execution_count": null,
   "id": "0ca32f18-b159-42e6-a238-9c57b36461ec",
   "metadata": {},
   "outputs": [],
   "source": [
    "def sum_squared_error(x, y):\n",
    "  return jnp.sum((x-y)**2)\n",
    "\n",
    "sum_squared_error_dx = jax.grad(sum_squared_error)\n",
    "\n",
    "y = jnp.asarray([1.1, 2.1, 3.1, 4.1])\n",
    "\n",
    "print(sum_squared_error_dx(x, y))"
   ]
  },
  {
   "cell_type": "markdown",
   "id": "57699355-a33e-4e2d-aa13-3ca844707e76",
   "metadata": {},
   "source": [
    "First training loop"
   ]
  },
  {
   "cell_type": "code",
   "execution_count": null,
   "id": "4f143333-1aae-4227-80e7-c96f3e9a8264",
   "metadata": {},
   "outputs": [],
   "source": [
    "import jax.numpy as jnp\n",
    "import jax\n",
    "from jax import grad, jit, vmap\n",
    "from jax import random\n",
    "import numpy as np\n",
    "import matplotlib.pyplot as plt\n",
    "import lovely_jax as lj\n",
    "from lovely_numpy import lo\n",
    "lj.monkey_patch()\n"
   ]
  },
  {
   "cell_type": "code",
   "execution_count": null,
   "id": "b45efeed-6e61-421b-9e07-97e71e2a909f",
   "metadata": {},
   "outputs": [],
   "source": [
    "xs = np.random.normal(size=(100,))\n",
    "noise = np.random.normal(scale=0.1, size=(100,))\n",
    "ys = xs * 3 - 1 + noise\n",
    "\n",
    "plt.scatter(xs, ys);"
   ]
  },
  {
   "cell_type": "code",
   "execution_count": null,
   "id": "e6f9fbb4-b9e8-45cd-9ba9-8339fac1b001",
   "metadata": {},
   "outputs": [],
   "source": [
    "def model(theta, x):\n",
    "  \"\"\"Computes wx + b on a batch of input x.\"\"\"\n",
    "  w, b = theta\n",
    "  return w * x + b\n",
    "\n",
    "@jit\n",
    "def loss_fn(theta, x, y):\n",
    "  prediction = model(theta, x)\n",
    "  return jnp.mean((prediction-y)**2)\n",
    "\n",
    "def update(theta, x, y, lr=0.1):\n",
    "  return theta - lr * jax.grad(loss_fn)(theta, x, y)"
   ]
  },
  {
   "cell_type": "code",
   "execution_count": null,
   "id": "4301d553-d96b-402a-a72b-0da84ec73ecd",
   "metadata": {},
   "outputs": [],
   "source": [
    "theta = jnp.array([1., 1.])\n",
    "\n",
    "for _ in range(1000):\n",
    "  theta = update(theta, xs, ys)\n",
    "\n",
    "plt.scatter(xs, ys)\n",
    "plt.plot(xs, model(theta, xs), c='r')\n",
    "\n",
    "w, b = theta\n",
    "print(f\"w: {w:<.2f}, b: {b:<.2f}\")"
   ]
  },
  {
   "cell_type": "code",
   "execution_count": null,
   "id": "bef07ed1-24bc-4989-8db0-0e4dc629e1d3",
   "metadata": {},
   "outputs": [],
   "source": [
    "print(jax.make_jaxpr(update)(theta, xs, ys))"
   ]
  },
  {
   "cell_type": "code",
   "execution_count": null,
   "id": "d7f45493-579b-4b28-86ca-e99ec365baac",
   "metadata": {},
   "outputs": [],
   "source": [
    "import jax\n",
    "import jax.numpy as jnp\n",
    "\n",
    "x = jnp.arange(7)\n",
    "w = jnp.array([3., 3., 4.])\n",
    "\n",
    "def convolve(x, w):\n",
    "  output = []\n",
    "  for i in range(1, len(x)-1):\n",
    "    output.append(jnp.dot(x[i-1:i+2], w))\n",
    "  return jnp.array(output)\n",
    "\n",
    "convolve(x, w)"
   ]
  },
  {
   "cell_type": "code",
   "execution_count": null,
   "id": "799f9264-ecb0-462a-b521-9639c99ff5c1",
   "metadata": {},
   "outputs": [],
   "source": [
    "xs = jnp.stack([x, x])\n",
    "ws = jnp.stack([w, w])\n",
    "\n",
    "def manually_batched_convolve(xs, ws):\n",
    "  output = []\n",
    "  for i in range(xs.shape[0]):\n",
    "    output.append(convolve(xs[i], ws[i]))\n",
    "  return jnp.stack(output)\n",
    "\n",
    "manually_batched_convolve(xs, ws)"
   ]
  },
  {
   "cell_type": "code",
   "execution_count": null,
   "id": "55192077-c3b8-4ab2-9b3b-8dfad1cfc67c",
   "metadata": {},
   "outputs": [],
   "source": [
    "def manually_vectorized_convolve(xs, ws):\n",
    "  output = []\n",
    "  for i in range(1, xs.shape[-1] -1):\n",
    "    output.append(jnp.sum(xs[:, i-1:i+2] * ws, axis=1))\n",
    "  return jnp.stack(output, axis=1)\n",
    "\n",
    "manually_vectorized_convolve(xs, ws)"
   ]
  },
  {
   "cell_type": "code",
   "execution_count": null,
   "id": "9baaa51d-1ff0-415e-a603-1f114bc65b34",
   "metadata": {},
   "outputs": [],
   "source": [
    "auto_batch_convolve = jax.vmap(convolve)\n",
    "auto_batch_convolve(xs, ws)"
   ]
  },
  {
   "cell_type": "code",
   "execution_count": null,
   "id": "479348ac-5fbe-4d1e-a341-5b4b7548241f",
   "metadata": {},
   "outputs": [],
   "source": [
    "def f(x):\n",
    "    return jnp.dot(x, x)\n",
    "\n",
    "print(jax.jacfwd(f)(jnp.array([1., 1., 1.])))"
   ]
  },
  {
   "cell_type": "code",
   "execution_count": null,
   "id": "2d2d6315-752d-48df-b786-b9a14841d022",
   "metadata": {},
   "outputs": [],
   "source": [
    "import jax\n",
    "import jax.numpy as jnp\n",
    "\n",
    "example_trees = [\n",
    "    [1, 'a', object()],\n",
    "    (1, (2, 3), ()),\n",
    "    [1, {'k1': 2, 'k2': (3, 4)}, 5],\n",
    "    {'a': 2, 'b': (2, 3)},\n",
    "    jnp.array([1, 2, 3]),\n",
    "]\n",
    "\n",
    "# Let's see how many leaves they have:\n",
    "for pytree in example_trees:\n",
    "  leaves = jax.tree_util.tree_leaves(pytree)\n",
    "  print(f\"{repr(pytree):<45} has {len(leaves)} leaves: {leaves}\")"
   ]
  },
  {
   "cell_type": "code",
   "execution_count": null,
   "id": "9b89c51d-ea55-4a19-9f2f-e89f1bba8daf",
   "metadata": {},
   "outputs": [],
   "source": [
    "[jax.tree_util.keystr(path) for path in (jax.tree_util.tree_flatten_with_path(example_trees))[0]]"
   ]
  },
  {
   "cell_type": "code",
   "execution_count": null,
   "id": "c344ee37-2066-4295-92a7-646708c89542",
   "metadata": {},
   "outputs": [],
   "source": [
    "import numpy as np\n",
    "\n",
    "def init_mlp_params(layer_widths):\n",
    "  params = []\n",
    "  for n_in, n_out in zip(layer_widths[:-1], layer_widths[1:]):\n",
    "    params.append(\n",
    "        dict(weights=np.random.normal(size=(n_in, n_out)) * np.sqrt(2/n_in),\n",
    "             biases=np.ones(shape=(n_out,))\n",
    "            )\n",
    "    )\n",
    "  return params\n",
    "\n",
    "params = init_mlp_params([1, 128, 128, 1])\n",
    "\n",
    "jax.tree.map(lambda x: x.shape, params)"
   ]
  },
  {
   "cell_type": "code",
   "execution_count": null,
   "id": "517a9771-c3d4-43d0-9611-d84f4212d21f",
   "metadata": {},
   "outputs": [],
   "source": [
    "def forward(params, x):\n",
    "  *hidden, last = params\n",
    "  for layer in hidden:\n",
    "    x = jax.nn.relu(x @ layer['weights'] + layer['biases'])\n",
    "  return x @ last['weights'] + last['biases']\n",
    "\n",
    "def loss_fn(params, x, y):\n",
    "  return jnp.mean((forward(params, x) - y) ** 2)\n",
    "\n",
    "LEARNING_RATE = 0.0001\n",
    "\n",
    "@jax.jit\n",
    "def update(params, x, y):\n",
    "\n",
    "  grads = jax.grad(loss_fn)(params, x, y)\n",
    "  # Note that `grads` is a pytree with the same structure as `params`.\n",
    "  # `jax.grad` is one of the many JAX functions that has\n",
    "  # built-in support for pytrees.\n",
    "\n",
    "  # This is handy, because we can apply the SGD update using tree utils:\n",
    "  return jax.tree.map(\n",
    "      lambda p, g: p - LEARNING_RATE * g, params, grads\n",
    "  )\n",
    "\n",
    "import matplotlib.pyplot as plt\n",
    "\n",
    "xs = np.random.normal(size=(128, 1))\n",
    "ys = xs ** 2\n",
    "\n",
    "for _ in range(1000):\n",
    "  params = update(params, xs, ys)\n",
    "\n",
    "plt.scatter(xs, ys)\n",
    "plt.scatter(xs, forward(params, xs), label='Model prediction')\n",
    "plt.legend();"
   ]
  },
  {
   "cell_type": "code",
   "execution_count": null,
   "id": "50f29b16-fe49-42f9-b241-852b58ad3452",
   "metadata": {},
   "outputs": [],
   "source": [
    "a_tree = [jnp.zeros((2, 3)), jnp.zeros((3, 4))]\n",
    "\n",
    "# Try to make another tree with ones instead of zeros\n",
    "shapes = jax.tree.map(lambda x: x.shape, a_tree)\n",
    "print(shapes)\n",
    "jax.tree.map(jnp.ones, shapes)\n"
   ]
  },
  {
   "cell_type": "code",
   "execution_count": null,
   "id": "a252bc68-9682-468a-be2c-a8373a8b874b",
   "metadata": {},
   "outputs": [],
   "source": [
    "help(jax.random.normal)"
   ]
  },
  {
   "cell_type": "code",
   "execution_count": null,
   "id": "ccf463cd-6063-4d2b-afec-24a27b9bc10c",
   "metadata": {},
   "outputs": [],
   "source": [
    "k = jax.random.key(43)\n",
    "k1, k2 = jax.random.split(k)\n",
    "\n",
    "# generate the data\n",
    "n = 1000 # number of data points\n",
    "n_epochs = 1000\n",
    "true_slope = 3.5\n",
    "true_bias = 1.0\n",
    "noise_amplitude = 0.3\n",
    "xs = jax.random.normal(k1, (n,))\n",
    "ys = true_slope * xs + true_bias + noise_amplitude * jax.random.normal(k2, (n,))\n",
    "\n",
    "parameters = {'slope': 1.0, 'bias': 0.5}\n",
    "\n",
    "def forward(params: dict, x: np.ndarray | jnp.ndarray) -> np.ndarray | jnp.ndarray:\n",
    "    return params['slope'] * x + params['bias']\n",
    "\n",
    "def loss_fn(params:dict, xs: jnp.ndarray, ys: jnp.ndarray) -> jnp.float32:\n",
    "    return jnp.sum((ys - forward(params, xs))**2)\n",
    "\n",
    "@jit\n",
    "def update(params: dict, xs, ys, lr=0.0005):\n",
    "    grads = jax.grad(loss_fn)(params, xs, ys)\n",
    "    new_values = jax.tree.map(lambda p, g: p - lr * g, params, grads)\n",
    "    return new_values\n",
    "\n",
    "for _ in range(n_epochs):\n",
    "    parameters = update(parameters, xs, ys)\n",
    "\n",
    "print(f\"slope: {parameters['slope']}\")\n",
    "print(f\"bias: {parameters['bias']}\")\n",
    "    "
   ]
  },
  {
   "cell_type": "code",
   "execution_count": null,
   "id": "fae6065b-7b6d-4ac1-a252-b4433a29ef74",
   "metadata": {},
   "outputs": [],
   "source": []
  }
 ],
 "metadata": {
  "kernelspec": {
   "display_name": "Python 3 (ipykernel)",
   "language": "python",
   "name": "python3"
  },
  "language_info": {
   "codemirror_mode": {
    "name": "ipython",
    "version": 3
   },
   "file_extension": ".py",
   "mimetype": "text/x-python",
   "name": "python",
   "nbconvert_exporter": "python",
   "pygments_lexer": "ipython3",
   "version": "3.8.10"
  }
 },
 "nbformat": 4,
 "nbformat_minor": 5
}
